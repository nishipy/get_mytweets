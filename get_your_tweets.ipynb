{
 "cells": [
  {
   "cell_type": "markdown",
   "metadata": {},
   "source": [
    "# Sample code to get all of your own tweets via Twitter API\n",
    "## Import twitter_api\n",
    "You must create file named './twitter_api.py' and write auth information in it."
   ]
  },
  {
   "cell_type": "code",
   "execution_count": 1,
   "metadata": {},
   "outputs": [],
   "source": [
    "import twitter_api\n",
    "# 認証情報を、別ファイルから取得\n",
    "key          = twitter_api.CONSUMER_KEY\n",
    "key_secret   = twitter_api.CONSUMER_SECRET_KEY\n",
    "token        = twitter_api.ACCESS_TOKEN\n",
    "token_secret = twitter_api.ACCESS_TOKEN_SECRET"
   ]
  },
  {
   "cell_type": "markdown",
   "metadata": {},
   "source": [
    "## Define functions"
   ]
  },
  {
   "cell_type": "code",
   "execution_count": 2,
   "metadata": {},
   "outputs": [],
   "source": [
    "def auth_twitter_api(key, key_secret, token, token_secret):\n",
    "    import tweepy\n",
    "    # 認証情報を設定\n",
    "    auth = tweepy.OAuthHandler(key, key_secret)\n",
    "    auth.set_access_token(token, token_secret)\n",
    "    api = tweepy.API(auth)\n",
    "    return api\n",
    "\n",
    "def alltweets_to_csv(api):\n",
    "    import csv\n",
    "    # 全ツイートを入れる空のリストを用意\n",
    "    all_tweets    = []\n",
    "    # 直近の200ツイート分を取得しておく\n",
    "    latest_tweets = api.user_timeline(count=200)\n",
    "    all_tweets.extend(latest_tweets)\n",
    "\n",
    "    # 取得するツイートがなくなるまで続ける\n",
    "    while len(latest_tweets)>0:\n",
    "        latest_tweets = api.user_timeline(count=200, max_id=all_tweets[-1].id-1)\n",
    "        all_tweets.extend(latest_tweets)\n",
    "\n",
    "    all_tweets_text = []\n",
    "    with open('all_tweets.csv', 'w', newline='') as f:\n",
    "        writer = csv.writer(f)\n",
    "        writer.writerow(['tweet_text', '#characters', '#favorited', '#retweeted', 'hasImage', 'hasBlogLink'])\n",
    "        for tweet in all_tweets:\n",
    "            if (tweet.text.startswith('RT')) or (tweet.text.startswith('@')):\n",
    "                continue # RTとリプライはスキップ\n",
    "            else:\n",
    "                has_image        = 0 # 画像付きのツイートか\n",
    "                has_bloglink     = 0 # ブログへのリンク付きのツイートか\n",
    "                tweet_characters = tweet.text # ツイートの文字列\n",
    "                if 'media' in tweet.entities:\n",
    "                    has_image = 1\n",
    "                if len(tweet.entities['urls']) > 0:\n",
    "                    # urlは、文字数としてカウントしない\n",
    "                    tweet_characters = tweet_characters.strip(tweet.entities['urls'][0]['url']).strip()\n",
    "                    if 'nishipy.com' in tweet.entities['urls'][0]['display_url']:\n",
    "                        has_bloglink   = 1\n",
    "                all_tweets_text.append(tweet_characters)\n",
    "                writer.writerow([tweet.text, len(tweet_characters), tweet.favorite_count, tweet.retweet_count, has_image, has_bloglink])\n",
    "    return all_tweets_text"
   ]
  },
  {
   "cell_type": "markdown",
   "metadata": {},
   "source": [
    "## Apply functions"
   ]
  },
  {
   "cell_type": "code",
   "execution_count": 3,
   "metadata": {},
   "outputs": [],
   "source": [
    "api = auth_twitter_api(key=key, key_secret=key_secret, token=token, token_secret=token_secret)"
   ]
  },
  {
   "cell_type": "code",
   "execution_count": 4,
   "metadata": {},
   "outputs": [],
   "source": [
    "all_tweets_text = alltweets_to_csv(api)"
   ]
  },
  {
   "cell_type": "markdown",
   "metadata": {},
   "source": [
    "## Read the csv file"
   ]
  },
  {
   "cell_type": "code",
   "execution_count": 5,
   "metadata": {},
   "outputs": [
    {
     "data": {
      "text/html": [
       "<div>\n",
       "<style scoped>\n",
       "    .dataframe tbody tr th:only-of-type {\n",
       "        vertical-align: middle;\n",
       "    }\n",
       "\n",
       "    .dataframe tbody tr th {\n",
       "        vertical-align: top;\n",
       "    }\n",
       "\n",
       "    .dataframe thead th {\n",
       "        text-align: right;\n",
       "    }\n",
       "</style>\n",
       "<table border=\"1\" class=\"dataframe\">\n",
       "  <thead>\n",
       "    <tr style=\"text-align: right;\">\n",
       "      <th></th>\n",
       "      <th>tweet_text</th>\n",
       "      <th>#characters</th>\n",
       "      <th>#favorited</th>\n",
       "      <th>#retweeted</th>\n",
       "      <th>hasImage</th>\n",
       "      <th>hasBlogLink</th>\n",
       "    </tr>\n",
       "  </thead>\n",
       "  <tbody>\n",
       "    <tr>\n",
       "      <th>0</th>\n",
       "      <td>LinkedIn経由でメールくれるのはいいけど、名字のスペル間違えるな。と思ったけど、自分で...</td>\n",
       "      <td>60</td>\n",
       "      <td>0</td>\n",
       "      <td>0</td>\n",
       "      <td>0</td>\n",
       "      <td>0</td>\n",
       "    </tr>\n",
       "    <tr>\n",
       "      <th>1</th>\n",
       "      <td>俺のラーメン https://t.co/jmxrWYuWY0</td>\n",
       "      <td>30</td>\n",
       "      <td>6</td>\n",
       "      <td>0</td>\n",
       "      <td>1</td>\n",
       "      <td>0</td>\n",
       "    </tr>\n",
       "    <tr>\n",
       "      <th>2</th>\n",
       "      <td>ほう│DeploymentとServiceをyamlファイルで定義する https://t....</td>\n",
       "      <td>35</td>\n",
       "      <td>0</td>\n",
       "      <td>0</td>\n",
       "      <td>0</td>\n",
       "      <td>0</td>\n",
       "    </tr>\n",
       "    <tr>\n",
       "      <th>3</th>\n",
       "      <td>kubernetesムズい</td>\n",
       "      <td>13</td>\n",
       "      <td>0</td>\n",
       "      <td>0</td>\n",
       "      <td>0</td>\n",
       "      <td>0</td>\n",
       "    </tr>\n",
       "    <tr>\n",
       "      <th>4</th>\n",
       "      <td>井原さんとネルシーニョが帰ってくるのか https://t.co/7TJIbpqn6v</td>\n",
       "      <td>19</td>\n",
       "      <td>0</td>\n",
       "      <td>0</td>\n",
       "      <td>0</td>\n",
       "      <td>0</td>\n",
       "    </tr>\n",
       "    <tr>\n",
       "      <th>5</th>\n",
       "      <td>菊池雄星世代としては、メジャーで活躍してほしい</td>\n",
       "      <td>23</td>\n",
       "      <td>2</td>\n",
       "      <td>0</td>\n",
       "      <td>0</td>\n",
       "      <td>0</td>\n",
       "    </tr>\n",
       "    <tr>\n",
       "      <th>6</th>\n",
       "      <td>komposeのこと調べたいのに、「もしかして:compose」と聞いてくるな</td>\n",
       "      <td>39</td>\n",
       "      <td>0</td>\n",
       "      <td>0</td>\n",
       "      <td>0</td>\n",
       "      <td>0</td>\n",
       "    </tr>\n",
       "    <tr>\n",
       "      <th>7</th>\n",
       "      <td>komposeで\"root level networks key - ignoring\"みた...</td>\n",
       "      <td>56</td>\n",
       "      <td>0</td>\n",
       "      <td>0</td>\n",
       "      <td>0</td>\n",
       "      <td>0</td>\n",
       "    </tr>\n",
       "    <tr>\n",
       "      <th>8</th>\n",
       "      <td>贅沢言わないから、ボーナス100万くれ</td>\n",
       "      <td>19</td>\n",
       "      <td>5</td>\n",
       "      <td>0</td>\n",
       "      <td>0</td>\n",
       "      <td>0</td>\n",
       "    </tr>\n",
       "    <tr>\n",
       "      <th>9</th>\n",
       "      <td>先週Wantedly登録して、初めてメール来た。ビズリーチよりまともなやつ</td>\n",
       "      <td>37</td>\n",
       "      <td>3</td>\n",
       "      <td>0</td>\n",
       "      <td>0</td>\n",
       "      <td>0</td>\n",
       "    </tr>\n",
       "    <tr>\n",
       "      <th>10</th>\n",
       "      <td>そんな彼らの社用PC、メモリ2GB</td>\n",
       "      <td>17</td>\n",
       "      <td>3</td>\n",
       "      <td>0</td>\n",
       "      <td>0</td>\n",
       "      <td>0</td>\n",
       "    </tr>\n",
       "    <tr>\n",
       "      <th>11</th>\n",
       "      <td>たまに研修等で同期に会うと、やっぱこいつら頭いいなあと思う。</td>\n",
       "      <td>30</td>\n",
       "      <td>0</td>\n",
       "      <td>0</td>\n",
       "      <td>0</td>\n",
       "      <td>0</td>\n",
       "    </tr>\n",
       "    <tr>\n",
       "      <th>12</th>\n",
       "      <td>どうやったら、そんなことできるん https://t.co/FzoJRwc2fE</td>\n",
       "      <td>16</td>\n",
       "      <td>0</td>\n",
       "      <td>0</td>\n",
       "      <td>0</td>\n",
       "      <td>0</td>\n",
       "    </tr>\n",
       "    <tr>\n",
       "      <th>13</th>\n",
       "      <td>袴かっけえ https://t.co/bdRHerMjCY</td>\n",
       "      <td>5</td>\n",
       "      <td>0</td>\n",
       "      <td>0</td>\n",
       "      <td>0</td>\n",
       "      <td>0</td>\n",
       "    </tr>\n",
       "    <tr>\n",
       "      <th>14</th>\n",
       "      <td>Hもやれ｜楽しかった職場　みんなのF2 Advent Calendar 2018 - Adv...</td>\n",
       "      <td>51</td>\n",
       "      <td>2</td>\n",
       "      <td>0</td>\n",
       "      <td>0</td>\n",
       "      <td>0</td>\n",
       "    </tr>\n",
       "    <tr>\n",
       "      <th>15</th>\n",
       "      <td>ウーゴヴィエイラ好きだった https://t.co/yNVTMHJe3M</td>\n",
       "      <td>13</td>\n",
       "      <td>0</td>\n",
       "      <td>0</td>\n",
       "      <td>0</td>\n",
       "      <td>0</td>\n",
       "    </tr>\n",
       "    <tr>\n",
       "      <th>16</th>\n",
       "      <td>ボーナス支給日。iPad Pro買えるくらいの控除されててむしろ萎える</td>\n",
       "      <td>35</td>\n",
       "      <td>5</td>\n",
       "      <td>1</td>\n",
       "      <td>0</td>\n",
       "      <td>0</td>\n",
       "    </tr>\n",
       "    <tr>\n",
       "      <th>17</th>\n",
       "      <td>MeCabのnode.surfaceがうまく表示されないのは、バグなのか。 https://...</td>\n",
       "      <td>61</td>\n",
       "      <td>3</td>\n",
       "      <td>0</td>\n",
       "      <td>1</td>\n",
       "      <td>0</td>\n",
       "    </tr>\n",
       "    <tr>\n",
       "      <th>18</th>\n",
       "      <td>サイバーマンデーでAnkerのワイヤレススピーカー買ったら、QoL跳ね上がった。</td>\n",
       "      <td>40</td>\n",
       "      <td>4</td>\n",
       "      <td>0</td>\n",
       "      <td>0</td>\n",
       "      <td>0</td>\n",
       "    </tr>\n",
       "    <tr>\n",
       "      <th>19</th>\n",
       "      <td>https://t.co/91WVSXpYoy</td>\n",
       "      <td>0</td>\n",
       "      <td>2</td>\n",
       "      <td>0</td>\n",
       "      <td>0</td>\n",
       "      <td>0</td>\n",
       "    </tr>\n",
       "    <tr>\n",
       "      <th>20</th>\n",
       "      <td>ルノアールが快適すぎる</td>\n",
       "      <td>11</td>\n",
       "      <td>1</td>\n",
       "      <td>0</td>\n",
       "      <td>0</td>\n",
       "      <td>0</td>\n",
       "    </tr>\n",
       "    <tr>\n",
       "      <th>21</th>\n",
       "      <td>Twitterしてるエンジニアという人々は、圏論を理解するらしい。学生時代の僕は、代数学1ミ...</td>\n",
       "      <td>62</td>\n",
       "      <td>0</td>\n",
       "      <td>0</td>\n",
       "      <td>0</td>\n",
       "      <td>0</td>\n",
       "    </tr>\n",
       "    <tr>\n",
       "      <th>22</th>\n",
       "      <td>「青は藍より出でて藍より青し」よりカッコいいことわざを、僕はまだ知らない</td>\n",
       "      <td>36</td>\n",
       "      <td>2</td>\n",
       "      <td>0</td>\n",
       "      <td>0</td>\n",
       "      <td>0</td>\n",
       "    </tr>\n",
       "    <tr>\n",
       "      <th>23</th>\n",
       "      <td>私の語彙力は・・・【35130】です！あなたは？ https://t.co/mcUhAB0zkT</td>\n",
       "      <td>24</td>\n",
       "      <td>1</td>\n",
       "      <td>0</td>\n",
       "      <td>0</td>\n",
       "      <td>0</td>\n",
       "    </tr>\n",
       "    <tr>\n",
       "      <th>24</th>\n",
       "      <td>敬語をつかえ https://t.co/C8bJo1nST4</td>\n",
       "      <td>6</td>\n",
       "      <td>0</td>\n",
       "      <td>0</td>\n",
       "      <td>0</td>\n",
       "      <td>0</td>\n",
       "    </tr>\n",
       "  </tbody>\n",
       "</table>\n",
       "</div>"
      ],
      "text/plain": [
       "                                           tweet_text  #characters  \\\n",
       "0   LinkedIn経由でメールくれるのはいいけど、名字のスペル間違えるな。と思ったけど、自分で...           60   \n",
       "1                      俺のラーメン https://t.co/jmxrWYuWY0           30   \n",
       "2   ほう│DeploymentとServiceをyamlファイルで定義する https://t....           35   \n",
       "3                                       kubernetesムズい           13   \n",
       "4         井原さんとネルシーニョが帰ってくるのか https://t.co/7TJIbpqn6v           19   \n",
       "5                             菊池雄星世代としては、メジャーで活躍してほしい           23   \n",
       "6             komposeのこと調べたいのに、「もしかして:compose」と聞いてくるな           39   \n",
       "7   komposeで\"root level networks key - ignoring\"みた...           56   \n",
       "8                                 贅沢言わないから、ボーナス100万くれ           19   \n",
       "9               先週Wantedly登録して、初めてメール来た。ビズリーチよりまともなやつ           37   \n",
       "10                                  そんな彼らの社用PC、メモリ2GB           17   \n",
       "11                     たまに研修等で同期に会うと、やっぱこいつら頭いいなあと思う。           30   \n",
       "12           どうやったら、そんなことできるん https://t.co/FzoJRwc2fE           16   \n",
       "13                      袴かっけえ https://t.co/bdRHerMjCY            5   \n",
       "14  Hもやれ｜楽しかった職場　みんなのF2 Advent Calendar 2018 - Adv...           51   \n",
       "15              ウーゴヴィエイラ好きだった https://t.co/yNVTMHJe3M           13   \n",
       "16                ボーナス支給日。iPad Pro買えるくらいの控除されててむしろ萎える           35   \n",
       "17  MeCabのnode.surfaceがうまく表示されないのは、バグなのか。 https://...           61   \n",
       "18           サイバーマンデーでAnkerのワイヤレススピーカー買ったら、QoL跳ね上がった。           40   \n",
       "19                            https://t.co/91WVSXpYoy            0   \n",
       "20                                        ルノアールが快適すぎる           11   \n",
       "21  Twitterしてるエンジニアという人々は、圏論を理解するらしい。学生時代の僕は、代数学1ミ...           62   \n",
       "22               「青は藍より出でて藍より青し」よりカッコいいことわざを、僕はまだ知らない           36   \n",
       "23   私の語彙力は・・・【35130】です！あなたは？ https://t.co/mcUhAB0zkT           24   \n",
       "24                     敬語をつかえ https://t.co/C8bJo1nST4            6   \n",
       "\n",
       "    #favorited  #retweeted  hasImage  hasBlogLink  \n",
       "0            0           0         0            0  \n",
       "1            6           0         1            0  \n",
       "2            0           0         0            0  \n",
       "3            0           0         0            0  \n",
       "4            0           0         0            0  \n",
       "5            2           0         0            0  \n",
       "6            0           0         0            0  \n",
       "7            0           0         0            0  \n",
       "8            5           0         0            0  \n",
       "9            3           0         0            0  \n",
       "10           3           0         0            0  \n",
       "11           0           0         0            0  \n",
       "12           0           0         0            0  \n",
       "13           0           0         0            0  \n",
       "14           2           0         0            0  \n",
       "15           0           0         0            0  \n",
       "16           5           1         0            0  \n",
       "17           3           0         1            0  \n",
       "18           4           0         0            0  \n",
       "19           2           0         0            0  \n",
       "20           1           0         0            0  \n",
       "21           0           0         0            0  \n",
       "22           2           0         0            0  \n",
       "23           1           0         0            0  \n",
       "24           0           0         0            0  "
      ]
     },
     "execution_count": 5,
     "metadata": {},
     "output_type": "execute_result"
    }
   ],
   "source": [
    "import pandas as pd\n",
    "df = pd.read_csv('all_tweets.csv')\n",
    "df[:25]"
   ]
  },
  {
   "cell_type": "markdown",
   "metadata": {},
   "source": [
    "## Visualize"
   ]
  },
  {
   "cell_type": "code",
   "execution_count": 6,
   "metadata": {},
   "outputs": [],
   "source": [
    "# 可視化モジュール\n",
    "#import matplotlib.pyplot as plt\n",
    "#import matplotlib as mpl\n",
    "%matplotlib inline\n",
    "import seaborn as sns\n",
    "sns.set(style=\"whitegrid\")"
   ]
  },
  {
   "cell_type": "code",
   "execution_count": 7,
   "metadata": {},
   "outputs": [
    {
     "data": {
      "text/plain": [
       "<matplotlib.axes._subplots.AxesSubplot at 0x1a11159ba8>"
      ]
     },
     "execution_count": 7,
     "metadata": {},
     "output_type": "execute_result"
    },
    {
     "data": {
      "image/png": "[encoded data removed]",
      "text/plain": [
       "<Figure size 432x288 with 1 Axes>"
      ]
     },
     "metadata": {},
     "output_type": "display_data"
    }
   ],
   "source": [
    "sns.barplot(x=\"hasImage\", y=\"#favorited\", data=df)"
   ]
  },
  {
   "cell_type": "code",
   "execution_count": 8,
   "metadata": {},
   "outputs": [
    {
     "data": {
      "text/plain": [
       "<matplotlib.axes._subplots.AxesSubplot at 0x1a18cc5470>"
      ]
     },
     "execution_count": 8,
     "metadata": {},
     "output_type": "execute_result"
    },
    {
     "data": {
      "image/png": "[encoded data removed]",
      "text/plain": [
       "<Figure size 432x288 with 1 Axes>"
      ]
     },
     "metadata": {},
     "output_type": "display_data"
    }
   ],
   "source": [
    "sns.barplot(x=\"hasBlogLink\", y=\"#favorited\", data=df)"
   ]
  },
  {
   "cell_type": "code",
   "execution_count": 9,
   "metadata": {},
   "outputs": [
    {
     "data": {
      "text/html": [
       "<div>\n",
       "<style scoped>\n",
       "    .dataframe tbody tr th:only-of-type {\n",
       "        vertical-align: middle;\n",
       "    }\n",
       "\n",
       "    .dataframe tbody tr th {\n",
       "        vertical-align: top;\n",
       "    }\n",
       "\n",
       "    .dataframe thead th {\n",
       "        text-align: right;\n",
       "    }\n",
       "</style>\n",
       "<table border=\"1\" class=\"dataframe\">\n",
       "  <thead>\n",
       "    <tr style=\"text-align: right;\">\n",
       "      <th></th>\n",
       "      <th>#characters</th>\n",
       "      <th>#favorited</th>\n",
       "      <th>#retweeted</th>\n",
       "      <th>hasImage</th>\n",
       "      <th>hasBlogLink</th>\n",
       "    </tr>\n",
       "  </thead>\n",
       "  <tbody>\n",
       "    <tr>\n",
       "      <th>count</th>\n",
       "      <td>547.000000</td>\n",
       "      <td>547.000000</td>\n",
       "      <td>547.000000</td>\n",
       "      <td>547.000000</td>\n",
       "      <td>547.000000</td>\n",
       "    </tr>\n",
       "    <tr>\n",
       "      <th>mean</th>\n",
       "      <td>36.641682</td>\n",
       "      <td>2.252285</td>\n",
       "      <td>0.137112</td>\n",
       "      <td>0.111517</td>\n",
       "      <td>0.042048</td>\n",
       "    </tr>\n",
       "    <tr>\n",
       "      <th>std</th>\n",
       "      <td>23.797827</td>\n",
       "      <td>3.659296</td>\n",
       "      <td>0.587907</td>\n",
       "      <td>0.315060</td>\n",
       "      <td>0.200881</td>\n",
       "    </tr>\n",
       "    <tr>\n",
       "      <th>min</th>\n",
       "      <td>0.000000</td>\n",
       "      <td>0.000000</td>\n",
       "      <td>0.000000</td>\n",
       "      <td>0.000000</td>\n",
       "      <td>0.000000</td>\n",
       "    </tr>\n",
       "    <tr>\n",
       "      <th>25%</th>\n",
       "      <td>19.000000</td>\n",
       "      <td>0.000000</td>\n",
       "      <td>0.000000</td>\n",
       "      <td>0.000000</td>\n",
       "      <td>0.000000</td>\n",
       "    </tr>\n",
       "    <tr>\n",
       "      <th>50%</th>\n",
       "      <td>31.000000</td>\n",
       "      <td>1.000000</td>\n",
       "      <td>0.000000</td>\n",
       "      <td>0.000000</td>\n",
       "      <td>0.000000</td>\n",
       "    </tr>\n",
       "    <tr>\n",
       "      <th>75%</th>\n",
       "      <td>49.500000</td>\n",
       "      <td>3.000000</td>\n",
       "      <td>0.000000</td>\n",
       "      <td>0.000000</td>\n",
       "      <td>0.000000</td>\n",
       "    </tr>\n",
       "    <tr>\n",
       "      <th>max</th>\n",
       "      <td>137.000000</td>\n",
       "      <td>48.000000</td>\n",
       "      <td>8.000000</td>\n",
       "      <td>1.000000</td>\n",
       "      <td>1.000000</td>\n",
       "    </tr>\n",
       "  </tbody>\n",
       "</table>\n",
       "</div>"
      ],
      "text/plain": [
       "       #characters  #favorited  #retweeted    hasImage  hasBlogLink\n",
       "count   547.000000  547.000000  547.000000  547.000000   547.000000\n",
       "mean     36.641682    2.252285    0.137112    0.111517     0.042048\n",
       "std      23.797827    3.659296    0.587907    0.315060     0.200881\n",
       "min       0.000000    0.000000    0.000000    0.000000     0.000000\n",
       "25%      19.000000    0.000000    0.000000    0.000000     0.000000\n",
       "50%      31.000000    1.000000    0.000000    0.000000     0.000000\n",
       "75%      49.500000    3.000000    0.000000    0.000000     0.000000\n",
       "max     137.000000   48.000000    8.000000    1.000000     1.000000"
      ]
     },
     "execution_count": 9,
     "metadata": {},
     "output_type": "execute_result"
    }
   ],
   "source": [
    "df.describe()"
   ]
  },
  {
   "cell_type": "code",
   "execution_count": 10,
   "metadata": {},
   "outputs": [
    {
     "data": {
      "text/plain": [
       "<seaborn.axisgrid.PairGrid at 0x10e92ee48>"
      ]
     },
     "execution_count": 10,
     "metadata": {},
     "output_type": "execute_result"
    },
    {
     "data": {
      "image/png": "[encoded data removed]",
      "text/plain": [
       "<Figure size 900x900 with 30 Axes>"
      ]
     },
     "metadata": {},
     "output_type": "display_data"
    }
   ],
   "source": [
    "sns.pairplot(df)"
   ]
  },
  {
   "cell_type": "code",
   "execution_count": 11,
   "metadata": {},
   "outputs": [
    {
     "data": {
      "text/plain": [
       "<seaborn.axisgrid.FacetGrid at 0x1a11159b70>"
      ]
     },
     "execution_count": 11,
     "metadata": {},
     "output_type": "execute_result"
    },
    {
     "data": {
      "image/png": "[encoded data removed]",
      "text/plain": [
       "<Figure size 360x360 with 1 Axes>"
      ]
     },
     "metadata": {},
     "output_type": "display_data"
    }
   ],
   "source": [
    "sns.lmplot(x=\"#characters\",y=\"#favorited\",data=df)"
   ]
  }
 ],
 "metadata": {
  "kernelspec": {
   "display_name": "Python 3",
   "language": "python",
   "name": "python3"
  },
  "language_info": {
   "codemirror_mode": {
    "name": "ipython",
    "version": 3
   },
   "file_extension": ".py",
   "mimetype": "text/x-python",
   "name": "python",
   "nbconvert_exporter": "python",
   "pygments_lexer": "ipython3",
   "version": "3.6.5"
  }
 },
 "nbformat": 4,
 "nbformat_minor": 2
}
